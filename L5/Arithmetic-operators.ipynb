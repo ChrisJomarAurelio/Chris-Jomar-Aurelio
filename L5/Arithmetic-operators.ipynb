{
 "cells": [
  {
   "cell_type": "markdown",
   "id": "58271efc",
   "metadata": {},
   "source": [
    "# Arithmetic Operators "
   ]
  },
  {
   "cell_type": "markdown",
   "id": "d647da23",
   "metadata": {},
   "source": [
    "Data Analyst: Chris Jomar A. Aurelio <br>\n",
    "Department: Electrical Engineering "
   ]
  },
  {
   "cell_type": "markdown",
   "id": "f02eee06",
   "metadata": {},
   "source": []
  },
  {
   "cell_type": "markdown",
   "id": "6266b2a5",
   "metadata": {},
   "source": [
    "# Addition "
   ]
  },
  {
   "cell_type": "code",
   "execution_count": null,
   "id": "937f24c3",
   "metadata": {},
   "outputs": [],
   "source": [
    "a = 5\n",
    "b = 3 \n",
    "c = a + b\n",
    "print (c)"
   ]
  },
  {
   "cell_type": "markdown",
   "id": "731837d6",
   "metadata": {},
   "source": []
  },
  {
   "cell_type": "markdown",
   "id": "f6e4ef2f",
   "metadata": {},
   "source": [
    "# Subtraction "
   ]
  },
  {
   "cell_type": "code",
   "execution_count": null,
   "id": "76ab1cd4",
   "metadata": {},
   "outputs": [],
   "source": [
    "a = 10\n",
    "b = 4\n",
    "c = a - b\n",
    "print(\"the difference is \" + str(c))"
   ]
  },
  {
   "cell_type": "markdown",
   "id": "cfae667d",
   "metadata": {},
   "source": [
    "# Multiplication"
   ]
  },
  {
   "cell_type": "code",
   "execution_count": null,
   "id": "14de8333",
   "metadata": {},
   "outputs": [],
   "source": [
    "a = 7\n",
    "b = 6\n",
    "c = a * b\n",
    "print(str(a)) + (*) + str(b) + \" is \" + str(c)"
   ]
  },
  {
   "cell_type": "markdown",
   "id": "5ee8b57b",
   "metadata": {},
   "source": [
    "# Division"
   ]
  },
  {
   "cell_type": "code",
   "execution_count": null,
   "id": "5bda24f3",
   "metadata": {},
   "outputs": [],
   "source": [
    "a = 10\n",
    "b = 3\n",
    "c = a/b\n",
    "c"
   ]
  },
  {
   "cell_type": "markdown",
   "id": "3828cfa6",
   "metadata": {},
   "source": [
    "# Floor Division"
   ]
  },
  {
   "cell_type": "code",
   "execution_count": null,
   "id": "912037bb",
   "metadata": {},
   "outputs": [],
   "source": [
    "a = 10\n",
    "b = 3 \n",
    "c = a//b\n",
    "\n",
    "print(\"the remainder is \"+ str(c))\n"
   ]
  },
  {
   "cell_type": "markdown",
   "id": "f42adb03",
   "metadata": {},
   "source": [
    "# Modulo"
   ]
  },
  {
   "cell_type": "code",
   "execution_count": null,
   "id": "f02b5109",
   "metadata": {},
   "outputs": [],
   "source": [
    "a = 10\n",
    "b = 3\n",
    "c = a % b\n",
    "\n",
    "print(\"the remainder is \" + str(c))"
   ]
  },
  {
   "cell_type": "markdown",
   "id": "d99a5b24",
   "metadata": {},
   "source": [
    "# Increment"
   ]
  },
  {
   "cell_type": "code",
   "execution_count": null,
   "id": "a88b4795",
   "metadata": {},
   "outputs": [],
   "source": [
    "x = 5\n",
    "x+=1\n",
    "print(x)"
   ]
  },
  {
   "cell_type": "code",
   "execution_count": null,
   "id": "edf1a6fb",
   "metadata": {},
   "outputs": [],
   "source": [
    "a = 5\n",
    "a = a + 1\n",
    "print(a)"
   ]
  },
  {
   "cell_type": "markdown",
   "id": "21094a6f",
   "metadata": {},
   "source": [
    "# Decrement"
   ]
  },
  {
   "cell_type": "code",
   "execution_count": null,
   "id": "fd97fd6c",
   "metadata": {},
   "outputs": [],
   "source": [
    "x = 5\n",
    "x-=1\n",
    "print(x)"
   ]
  },
  {
   "cell_type": "code",
   "execution_count": null,
   "id": "5f9b06e6",
   "metadata": {},
   "outputs": [],
   "source": [
    "a = 5\n",
    "a = a - 1\n",
    "print(a)"
   ]
  }
 ],
 "metadata": {
  "language_info": {
   "name": "python"
  }
 },
 "nbformat": 4,
 "nbformat_minor": 5
}
