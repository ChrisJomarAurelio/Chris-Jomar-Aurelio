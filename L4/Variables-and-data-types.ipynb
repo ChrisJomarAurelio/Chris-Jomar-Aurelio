{
 "cells": [
  {
   "cell_type": "markdown",
   "id": "ace88d28",
   "metadata": {},
   "source": [
    "# Variables And Data Analysis"
   ]
  },
  {
   "cell_type": "markdown",
   "id": "8b98ef03",
   "metadata": {},
   "source": [
    "Data Analyst: Chris Jomar A. Aurelio <br>\n",
    "Department: Electrical Engineering"
   ]
  },
  {
   "cell_type": "code",
   "execution_count": null,
   "id": "d3918852",
   "metadata": {},
   "outputs": [],
   "source": [
    "Apple = 400\n",
    "Apple "
   ]
  },
  {
   "cell_type": "code",
   "execution_count": null,
   "id": "f75ce140",
   "metadata": {},
   "outputs": [],
   "source": [
    "type (Apple)"
   ]
  },
  {
   "cell_type": "code",
   "execution_count": null,
   "id": "79cb38db",
   "metadata": {},
   "outputs": [],
   "source": [
    "pie = 3.14\n",
    "pie"
   ]
  },
  {
   "cell_type": "code",
   "execution_count": null,
   "id": "897b5614",
   "metadata": {},
   "outputs": [],
   "source": [
    "type (pie) "
   ]
  },
  {
   "cell_type": "code",
   "execution_count": null,
   "id": "d7deafa1",
   "metadata": {},
   "outputs": [],
   "source": [
    "grade = 'A' \n",
    "grade"
   ]
  },
  {
   "cell_type": "code",
   "execution_count": null,
   "id": "5841c06c",
   "metadata": {},
   "outputs": [],
   "source": [
    "type (grade)"
   ]
  },
  {
   "cell_type": "code",
   "execution_count": null,
   "id": "436a9ebb",
   "metadata": {},
   "outputs": [],
   "source": [
    "is_active = true\n",
    "is_active"
   ]
  },
  {
   "cell_type": "code",
   "execution_count": null,
   "id": "dd97e6a3",
   "metadata": {},
   "outputs": [],
   "source": [
    "type (is-active)"
   ]
  },
  {
   "cell_type": "code",
   "execution_count": null,
   "id": "a7062266",
   "metadata": {},
   "outputs": [],
   "source": [
    "message = \"Hello, World!\"\n",
    "message"
   ]
  },
  {
   "cell_type": "code",
   "execution_count": null,
   "id": "60dea26a",
   "metadata": {},
   "outputs": [],
   "source": [
    "type (message)"
   ]
  }
 ],
 "metadata": {
  "language_info": {
   "name": "python"
  }
 },
 "nbformat": 4,
 "nbformat_minor": 5
}
