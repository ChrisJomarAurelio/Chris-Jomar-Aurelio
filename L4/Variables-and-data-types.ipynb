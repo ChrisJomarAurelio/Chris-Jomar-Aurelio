{
 "cells": [
  {
   "cell_type": "markdown",
   "id": "ace88d28",
   "metadata": {},
   "source": [
    "# Variables And Data Analysis"
   ]
  },
  {
   "cell_type": "markdown",
   "id": "8b98ef03",
   "metadata": {},
   "source": [
    "Data Analyst: Chris Jomar A. Aurelio <br>\n",
    "Department: Electrical Engineering"
   ]
  },
  {
   "cell_type": "code",
   "execution_count": 2,
   "id": "d3918852",
   "metadata": {},
   "outputs": [
    {
     "data": {
      "text/plain": [
       "400"
      ]
     },
     "execution_count": 2,
     "metadata": {},
     "output_type": "execute_result"
    }
   ],
   "source": [
    "Apple = 400\n",
    "Apple "
   ]
  },
  {
   "cell_type": "code",
   "execution_count": 3,
   "id": "f75ce140",
   "metadata": {},
   "outputs": [
    {
     "data": {
      "text/plain": [
       "int"
      ]
     },
     "execution_count": 3,
     "metadata": {},
     "output_type": "execute_result"
    }
   ],
   "source": [
    "type (Apple)"
   ]
  },
  {
   "cell_type": "code",
   "execution_count": 4,
   "id": "79cb38db",
   "metadata": {},
   "outputs": [
    {
     "data": {
      "text/plain": [
       "3.14"
      ]
     },
     "execution_count": 4,
     "metadata": {},
     "output_type": "execute_result"
    }
   ],
   "source": [
    "pie = 3.14\n",
    "pie"
   ]
  },
  {
   "cell_type": "code",
   "execution_count": 5,
   "id": "897b5614",
   "metadata": {},
   "outputs": [
    {
     "data": {
      "text/plain": [
       "float"
      ]
     },
     "execution_count": 5,
     "metadata": {},
     "output_type": "execute_result"
    }
   ],
   "source": [
    "type (pie) "
   ]
  },
  {
   "cell_type": "code",
   "execution_count": 6,
   "id": "d7deafa1",
   "metadata": {},
   "outputs": [
    {
     "data": {
      "text/plain": [
       "'A'"
      ]
     },
     "execution_count": 6,
     "metadata": {},
     "output_type": "execute_result"
    }
   ],
   "source": [
    "grade = 'A' \n",
    "grade"
   ]
  },
  {
   "cell_type": "code",
   "execution_count": 7,
   "id": "5841c06c",
   "metadata": {},
   "outputs": [
    {
     "data": {
      "text/plain": [
       "str"
      ]
     },
     "execution_count": 7,
     "metadata": {},
     "output_type": "execute_result"
    }
   ],
   "source": [
    "type (grade)"
   ]
  },
  {
   "cell_type": "code",
   "execution_count": 8,
   "id": "436a9ebb",
   "metadata": {},
   "outputs": [
    {
     "ename": "NameError",
     "evalue": "name 'true' is not defined",
     "output_type": "error",
     "traceback": [
      "\u001b[31m---------------------------------------------------------------------------\u001b[39m",
      "\u001b[31mNameError\u001b[39m                                 Traceback (most recent call last)",
      "\u001b[36mCell\u001b[39m\u001b[36m \u001b[39m\u001b[32mIn[8]\u001b[39m\u001b[32m, line 1\u001b[39m\n\u001b[32m----> \u001b[39m\u001b[32m1\u001b[39m is_active = \u001b[43mtrue\u001b[49m\n\u001b[32m      2\u001b[39m is_active\n",
      "\u001b[31mNameError\u001b[39m: name 'true' is not defined"
     ]
    }
   ],
   "source": [
    "is_active = true\n",
    "is_active"
   ]
  },
  {
   "cell_type": "code",
   "execution_count": null,
   "id": "dd97e6a3",
   "metadata": {},
   "outputs": [],
   "source": [
    "type (is-active)"
   ]
  },
  {
   "cell_type": "code",
   "execution_count": null,
   "id": "a7062266",
   "metadata": {},
   "outputs": [],
   "source": [
    "message = \"Hello, World!\"\n",
    "message"
   ]
  },
  {
   "cell_type": "code",
   "execution_count": null,
   "id": "60dea26a",
   "metadata": {},
   "outputs": [],
   "source": [
    "type (message)"
   ]
  },
  {
   "cell_type": "markdown",
   "id": "48ba9b94",
   "metadata": {},
   "source": [
    "# Data Structures"
   ]
  },
  {
   "cell_type": "markdown",
   "id": "171d1ff0",
   "metadata": {},
   "source": [
    "# List\n"
   ]
  },
  {
   "cell_type": "code",
   "execution_count": 9,
   "id": "152c9215",
   "metadata": {},
   "outputs": [
    {
     "data": {
      "text/plain": [
       "['apple', 'orange', 'grapes']"
      ]
     },
     "execution_count": 9,
     "metadata": {},
     "output_type": "execute_result"
    }
   ],
   "source": [
    "fruits = [\"apple\", \"orange\", \"grapes\"]\n",
    "fruits"
   ]
  },
  {
   "cell_type": "code",
   "execution_count": 10,
   "id": "3cb8a544",
   "metadata": {},
   "outputs": [
    {
     "data": {
      "text/plain": [
       "list"
      ]
     },
     "execution_count": 10,
     "metadata": {},
     "output_type": "execute_result"
    }
   ],
   "source": [
    "type(fruits)"
   ]
  },
  {
   "cell_type": "code",
   "execution_count": 11,
   "id": "5b378b3f",
   "metadata": {},
   "outputs": [
    {
     "data": {
      "text/plain": [
       "'orange'"
      ]
     },
     "execution_count": 11,
     "metadata": {},
     "output_type": "execute_result"
    }
   ],
   "source": [
    "fruits[1]"
   ]
  },
  {
   "cell_type": "code",
   "execution_count": 12,
   "id": "c2a9123a",
   "metadata": {},
   "outputs": [
    {
     "data": {
      "text/plain": [
       "['apple', 'orange', 'grapes']"
      ]
     },
     "execution_count": 12,
     "metadata": {},
     "output_type": "execute_result"
    }
   ],
   "source": [
    "fruits"
   ]
  },
  {
   "cell_type": "markdown",
   "id": "75b67e91",
   "metadata": {},
   "source": [
    "# Tuple"
   ]
  },
  {
   "cell_type": "code",
   "execution_count": 13,
   "id": "d30d4774",
   "metadata": {},
   "outputs": [
    {
     "data": {
      "text/plain": [
       "('apple', 'orange', 'grapes')"
      ]
     },
     "execution_count": 13,
     "metadata": {},
     "output_type": "execute_result"
    }
   ],
   "source": [
    "fruits = (\"apple\", \"orange\", \"grapes\")\n",
    "fruits"
   ]
  },
  {
   "cell_type": "code",
   "execution_count": 14,
   "id": "104e6a31",
   "metadata": {},
   "outputs": [
    {
     "data": {
      "text/plain": [
       "tuple"
      ]
     },
     "execution_count": 14,
     "metadata": {},
     "output_type": "execute_result"
    }
   ],
   "source": [
    "type(fruits)"
   ]
  },
  {
   "cell_type": "code",
   "execution_count": 15,
   "id": "fbef8e22",
   "metadata": {},
   "outputs": [
    {
     "data": {
      "text/plain": [
       "'apple'"
      ]
     },
     "execution_count": 15,
     "metadata": {},
     "output_type": "execute_result"
    }
   ],
   "source": [
    "fruits[0]"
   ]
  },
  {
   "cell_type": "code",
   "execution_count": 16,
   "id": "95c1fed6",
   "metadata": {},
   "outputs": [
    {
     "ename": "TypeError",
     "evalue": "'tuple' object does not support item assignment",
     "output_type": "error",
     "traceback": [
      "\u001b[31m---------------------------------------------------------------------------\u001b[39m",
      "\u001b[31mTypeError\u001b[39m                                 Traceback (most recent call last)",
      "\u001b[36mCell\u001b[39m\u001b[36m \u001b[39m\u001b[32mIn[16]\u001b[39m\u001b[32m, line 1\u001b[39m\n\u001b[32m----> \u001b[39m\u001b[32m1\u001b[39m \u001b[43mfruits\u001b[49m\u001b[43m[\u001b[49m\u001b[32;43m0\u001b[39;49m\u001b[43m]\u001b[49m = \u001b[33m\"\u001b[39m\u001b[33mmango\u001b[39m\u001b[33m\"\u001b[39m\n",
      "\u001b[31mTypeError\u001b[39m: 'tuple' object does not support item assignment"
     ]
    }
   ],
   "source": [
    "fruits[0] = \"mango\""
   ]
  },
  {
   "cell_type": "markdown",
   "id": "7803c09f",
   "metadata": {},
   "source": [
    "# Dictionary"
   ]
  },
  {
   "cell_type": "code",
   "execution_count": 22,
   "id": "cea5464a",
   "metadata": {},
   "outputs": [
    {
     "data": {
      "text/plain": [
       "{'name': 'Ada', 'age': 25, 'city': 'New York'}"
      ]
     },
     "execution_count": 22,
     "metadata": {},
     "output_type": "execute_result"
    }
   ],
   "source": [
    "employee = {\"name\": \"Ada\",\n",
    "            \"age\":25,\n",
    "            \"city\":\"New York\"}\n",
    "employee"
   ]
  },
  {
   "cell_type": "code",
   "execution_count": 23,
   "id": "b39055ea",
   "metadata": {},
   "outputs": [
    {
     "data": {
      "text/plain": [
       "dict"
      ]
     },
     "execution_count": 23,
     "metadata": {},
     "output_type": "execute_result"
    }
   ],
   "source": [
    "type(employee)"
   ]
  },
  {
   "cell_type": "code",
   "execution_count": 24,
   "id": "78ea393f",
   "metadata": {},
   "outputs": [
    {
     "data": {
      "text/plain": [
       "25"
      ]
     },
     "execution_count": 24,
     "metadata": {},
     "output_type": "execute_result"
    }
   ],
   "source": [
    "employee[\"age\"]"
   ]
  },
  {
   "cell_type": "code",
   "execution_count": 25,
   "id": "5867e1c2",
   "metadata": {},
   "outputs": [],
   "source": [
    "employee[\"age\"] = 30"
   ]
  },
  {
   "cell_type": "code",
   "execution_count": 26,
   "id": "d9ef308a",
   "metadata": {},
   "outputs": [
    {
     "data": {
      "text/plain": [
       "{'name': 'Ada', 'age': 30, 'city': 'New York'}"
      ]
     },
     "execution_count": 26,
     "metadata": {},
     "output_type": "execute_result"
    }
   ],
   "source": [
    "employee"
   ]
  }
 ],
 "metadata": {
  "kernelspec": {
   "display_name": "Python 3",
   "language": "python",
   "name": "python3"
  },
  "language_info": {
   "codemirror_mode": {
    "name": "ipython",
    "version": 3
   },
   "file_extension": ".py",
   "mimetype": "text/x-python",
   "name": "python",
   "nbconvert_exporter": "python",
   "pygments_lexer": "ipython3",
   "version": "3.13.3"
  }
 },
 "nbformat": 4,
 "nbformat_minor": 5
}
