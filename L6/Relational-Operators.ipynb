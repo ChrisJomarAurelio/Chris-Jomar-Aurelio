{
 "cells": [
  {
   "cell_type": "markdown",
   "id": "59b2c9df",
   "metadata": {},
   "source": [
    "# Relational Operators"
   ]
  },
  {
   "cell_type": "markdown",
   "id": "a6d4f0da",
   "metadata": {},
   "source": [
    "Data Analyst: Chris Jomar A. Aurelio <br>\n",
    "Department: Electrical Engineering"
   ]
  },
  {
   "cell_type": "markdown",
   "id": "527a266b",
   "metadata": {},
   "source": [
    "# Equal To"
   ]
  },
  {
   "cell_type": "code",
   "execution_count": null,
   "id": "0e01dcf8",
   "metadata": {},
   "outputs": [],
   "source": [
    "a = 5 \n",
    "b = 5 \n",
    "a == b "
   ]
  },
  {
   "cell_type": "code",
   "execution_count": null,
   "id": "169bf41e",
   "metadata": {},
   "outputs": [],
   "source": [
    "a = 0\n",
    "b = 5 \n",
    "a == b "
   ]
  },
  {
   "cell_type": "markdown",
   "id": "064cc569",
   "metadata": {},
   "source": [
    "# Not Equal To"
   ]
  },
  {
   "cell_type": "code",
   "execution_count": null,
   "id": "11e14f86",
   "metadata": {},
   "outputs": [],
   "source": [
    "a = 5 \n",
    "b = 5 \n",
    "a!=b"
   ]
  },
  {
   "cell_type": "code",
   "execution_count": null,
   "id": "1093288f",
   "metadata": {},
   "outputs": [],
   "source": [
    "a = 0\n",
    "b = 5 \n",
    "a != b"
   ]
  },
  {
   "cell_type": "markdown",
   "id": "ed50310e",
   "metadata": {},
   "source": [
    "# Greater Than \n"
   ]
  },
  {
   "cell_type": "code",
   "execution_count": null,
   "id": "d5806986",
   "metadata": {},
   "outputs": [],
   "source": [
    "a = 5\n",
    "b = 0\n",
    "a > b"
   ]
  },
  {
   "cell_type": "code",
   "execution_count": null,
   "id": "2dd66dd3",
   "metadata": {},
   "outputs": [],
   "source": [
    "a = 0\n",
    "b = 5 \n",
    "a > 5"
   ]
  },
  {
   "cell_type": "markdown",
   "id": "7b588790",
   "metadata": {},
   "source": [
    "# Less Than"
   ]
  },
  {
   "cell_type": "code",
   "execution_count": null,
   "id": "fa2a7c60",
   "metadata": {},
   "outputs": [],
   "source": [
    "a = 5\n",
    "b = 0\n",
    "a < b"
   ]
  },
  {
   "cell_type": "code",
   "execution_count": null,
   "id": "3eac0975",
   "metadata": {},
   "outputs": [],
   "source": [
    "a = 0\n",
    "b = 5 \n",
    "a < b "
   ]
  },
  {
   "cell_type": "markdown",
   "id": "7da1d26e",
   "metadata": {},
   "source": [
    "# Greater Than Or Equal"
   ]
  },
  {
   "cell_type": "code",
   "execution_count": null,
   "id": "f3f3576a",
   "metadata": {},
   "outputs": [],
   "source": [
    "a = 3 \n",
    "b = 3\n",
    "a >= b"
   ]
  },
  {
   "cell_type": "code",
   "execution_count": null,
   "id": "110ae918",
   "metadata": {},
   "outputs": [],
   "source": [
    "a = 5 \n",
    "b = 3 \n",
    "a >= b"
   ]
  },
  {
   "cell_type": "markdown",
   "id": "42ba0991",
   "metadata": {},
   "source": [
    "# Less Than Or Equal To"
   ]
  },
  {
   "cell_type": "code",
   "execution_count": null,
   "id": "9a56750b",
   "metadata": {},
   "outputs": [],
   "source": [
    "a = 3\n",
    "b = 3\n",
    "a <= b"
   ]
  },
  {
   "cell_type": "code",
   "execution_count": null,
   "id": "90131ffa",
   "metadata": {},
   "outputs": [],
   "source": [
    "a = 5\n",
    "b = 3\n",
    "a <= b"
   ]
  }
 ],
 "metadata": {
  "language_info": {
   "name": "python"
  }
 },
 "nbformat": 4,
 "nbformat_minor": 5
}
